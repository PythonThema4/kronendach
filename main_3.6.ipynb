{
 "nbformat": 4,
 "nbformat_minor": 2,
 "metadata": {
  "language_info": {
   "name": "python",
   "codemirror_mode": {
    "name": "ipython",
    "version": 3
   },
   "version": "3.6.7-final"
  },
  "orig_nbformat": 2,
  "file_extension": ".py",
  "mimetype": "text/x-python",
  "name": "python",
  "npconvert_exporter": "python",
  "pygments_lexer": "ipython3",
  "version": 3,
  "kernelspec": {
   "name": "python36764bit3f6efbcefbfc4cdd87bbf5bfae4c0b9d",
   "display_name": "Python 3.6.7 64-bit"
  }
 },
 "cells": [
  {
   "cell_type": "code",
   "execution_count": 421,
   "metadata": {},
   "outputs": [],
   "source": [
    "#-------------------------------\n",
    "#Funktionen:\n",
    "#-------------------------------\n",
    "\n",
    "# Print iterations progress\n",
    "def printProgressBar (iteration, total, prefix = '', suffix = '', decimals = 1, length = 100, fill = '█', printEnd = \"\\r\"):\n",
    "    \"\"\"\n",
    "    Call in a loop to create terminal progress bar\n",
    "    @params:\n",
    "        iteration   - Required  : current iteration (Int)\n",
    "        total       - Required  : total iterations (Int)\n",
    "        prefix      - Optional  : prefix string (Str)\n",
    "        suffix      - Optional  : suffix string (Str)\n",
    "        decimals    - Optional  : positive number of decimals in percent complete (Int)\n",
    "        length      - Optional  : character length of bar (Int)\n",
    "        fill        - Optional  : bar fill character (Str)\n",
    "        printEnd    - Optional  : end character (e.g. \"\\r\", \"\\r\\n\") (Str)\n",
    "    \"\"\"\n",
    "    percent = (\"{0:.\" + str(decimals) + \"f}\").format(100 * (iteration / float(total)))\n",
    "    filledLength = int(length * iteration // total)\n",
    "    bar = fill * filledLength + '-' * (length - filledLength)\n",
    "    print('\\r%s |%s| %s%% %s' % (prefix, bar, percent, suffix), end = printEnd)\n",
    "    # Print New Line on Complete\n",
    "    if iteration == total: \n",
    "        print()"
   ]
  },
  {
   "cell_type": "code",
   "execution_count": 422,
   "metadata": {},
   "outputs": [
    {
     "data": {
      "text/plain": "<function TextIOWrapper.close()>"
     },
     "execution_count": 422,
     "metadata": {},
     "output_type": "execute_result"
    }
   ],
   "source": [
    "import numpy as np\n",
    "from osgeo import gdal\n",
    "from osgeo import osr\n",
    "import time\n",
    "\n",
    "#-------------------------------\n",
    "#File einlesen:\n",
    "#-------------------------------\n",
    "fobj = open('Daten/Waldpunktwolke_1000.txt', \"r\") #Input File\n",
    "\n",
    "pointlist = []\n",
    "\n",
    "next(fobj)\n",
    "for line in fobj:\n",
    "    line = line.strip()\n",
    "    line= line.split(\"\\t\")   \n",
    "    pointlist.append(line)\n",
    "fobj.close"
   ]
  },
  {
   "cell_type": "code",
   "execution_count": 423,
   "metadata": {},
   "outputs": [
    {
     "name": "stdout",
     "output_type": "stream",
     "text": "1000\nVegetations-und Bodenliste einlesen:\nProgress: |██████████████████████████████████████████████████| 100.0% Complete\n"
    }
   ],
   "source": [
    "#-------------------------------\n",
    "#Daten einlesen und nach Typ Filtern:\n",
    "#-------------------------------\n",
    "\n",
    "pointarray = np.array(pointlist) \n",
    "pointarray = pointarray.astype(float)  \n",
    "print(len(pointarray))\n",
    "\n",
    "#Neuer Array ohne Gebauede und Boden, Klassen 3, 4, 5\n",
    "vegetationslist = []\n",
    "bodenlist=[]\n",
    "\n",
    "print(\"Vegetations-und Bodenliste einlesen:\")\n",
    "printProgressBar(0, len(pointarray), prefix = 'Progress:', suffix = 'Complete', length = 50)\n",
    "j=0\n",
    "for i in pointarray:\n",
    "    printProgressBar(j+1, len(pointarray), prefix = 'Progress:', suffix = 'Complete', length = 50)\n",
    "    j+=1\n",
    "    if i[6] == 3 or i[6] ==4 or i[6] ==5:\n",
    "        vegetationslist.append(i)\n",
    "    if i[6] == 2:\n",
    "        bodenlist.append(i)\n",
    "\n",
    "vegarray = np.array(vegetationslist)        \n",
    "bodenarray = np.array(bodenlist)\n",
    "\n",
    "\n",
    "#----------------------------------\n",
    "#Extend Array with random numbers:\n",
    "#----------------------------------\n",
    "#max values\n",
    "maxvals = np.amax(pointarray,axis=0) \n",
    "xmax=maxvals[0]\n",
    "ymax=maxvals[1]\n",
    "# print (\"xmax:\",xmax)\n",
    "# print (\"ymax:\",ymax)\n",
    "\n",
    "#min values\n",
    "minvals = np.amin(pointarray,axis=0) \n",
    "xmin=minvals[0]\n",
    "ymin=minvals[1]\n",
    "# print (\"xmin:\",xmin)\n",
    "# print (\"ymin:\",ymin)\n",
    "\n",
    "#empty array with extent dimensions\n",
    "nrows= int(np.ceil(ymax-ymin))\n",
    "ncols= int(np.ceil(xmax-xmin))\n",
    "\n",
    "bodencountout_array = np.empty((nrows,ncols))\n",
    "bodencountout_array.fill(0)\n",
    "\n",
    "bodenhoehenout_array = np.empty((nrows,ncols))\n",
    "bodenhoehenout_array.fill(0)\n",
    "\n",
    "vegcountout_array = np.empty((nrows,ncols))\n",
    "vegcountout_array.fill(0)\n",
    "\n",
    "veghoeheout_array = np.empty((nrows,ncols))\n",
    "veghoeheout_array.fill(0)\n",
    "\n",
    "vegstdout_array = np.empty((nrows,ncols))\n",
    "vegstdout_array.fill(0)\n"
   ]
  },
  {
   "cell_type": "code",
   "execution_count": 424,
   "metadata": {},
   "outputs": [
    {
     "name": "stdout",
     "output_type": "stream",
     "text": "Bodenpunkte zuordnen:\nProgress: |██████████████████████████████████████████████████| 100.0% Complete\n/Library/Frameworks/Python.framework/Versions/3.6/lib/python3.6/site-packages/numpy/core/fromnumeric.py:2957: RuntimeWarning: Mean of empty slice.\n  out=out, **kwargs)\n/Library/Frameworks/Python.framework/Versions/3.6/lib/python3.6/site-packages/numpy/core/_methods.py:80: RuntimeWarning: invalid value encountered in double_scalars\n  ret = ret.dtype.type(ret / rcount)\n"
    }
   ],
   "source": [
    "#----------------------------------\n",
    "#Bodenpunkte zaehlen:\n",
    "#----------------------------------\n",
    "bodencount = 0\n",
    "countlist =[]\n",
    "arraycount_x = 0\n",
    "arraycount_y = 0\n",
    "bodenhoehenlist = []\n",
    "\n",
    "print(\"Bodenpunkte zuordnen:\")\n",
    "printProgressBar(0, len(np.arange(ymax,ymax-nrows,-1)), prefix = 'Progress:', suffix = 'Complete', length = 50)\n",
    "j=0\n",
    "for y in np.arange(ymax,ymax-nrows,-1):\n",
    "    printProgressBar(j+1, len(np.arange(ymax,ymax-nrows,-1)), prefix = 'Progress:', suffix = 'Complete', length = 50)\n",
    "    j+=1\n",
    "    # print(\"yRichtung:\",y)\n",
    "    # print(\"ArraypositionY:\",arraycount_y)\n",
    "    for x in np.arange(xmin,xmin+ncols,1):\n",
    "        # print(\"xRichtung:\",x)\n",
    "        # print(\"ArraypositionX:\",arraycount_x)\n",
    "        for i in bodenarray:\n",
    "            if x <= i[0] < x+1 and y >= i[1] > y-1:\n",
    "                bodencount+=1\n",
    "                bodenhoehenlist.append(i[2])\n",
    "        bodencountout_array[arraycount_y][arraycount_x]=bodencount\n",
    "        bodenhoehenout_array[arraycount_y][arraycount_x]=np.mean(bodenhoehenlist)\n",
    "        arraycount_x+=1     \n",
    "        bodencount=0\n",
    "        bodenhoehenlist=[]\n",
    "    arraycount_x=0\n",
    "    arraycount_y+=1\n",
    "    # print(\"xRichtungEnde\")\n",
    "    #bodenhoehenout_array[np.isnan(bodenhoehenout_array)] = 0\n",
    "\n",
    "\n"
   ]
  },
  {
   "cell_type": "code",
   "execution_count": 425,
   "metadata": {},
   "outputs": [
    {
     "name": "stdout",
     "output_type": "stream",
     "text": "VegPunkte zuordnen:\nProgress: |██████████████████████████████████████████████████| 100.0% Complete\n/Library/Frameworks/Python.framework/Versions/3.6/lib/python3.6/site-packages/numpy/core/_methods.py:135: RuntimeWarning: Degrees of freedom <= 0 for slice\n  keepdims=keepdims)\n/Library/Frameworks/Python.framework/Versions/3.6/lib/python3.6/site-packages/numpy/core/_methods.py:105: RuntimeWarning: invalid value encountered in true_divide\n  arrmean, rcount, out=arrmean, casting='unsafe', subok=False)\n/Library/Frameworks/Python.framework/Versions/3.6/lib/python3.6/site-packages/numpy/core/_methods.py:127: RuntimeWarning: invalid value encountered in double_scalars\n  ret = ret.dtype.type(ret / rcount)\n"
    }
   ],
   "source": [
    "#----------------------------------\n",
    "#Mittlere Hoehe der VegPunkte:\n",
    "#----------------------------------\n",
    "vegcount = 0\n",
    "countlist =[]\n",
    "arraycount_x = 0\n",
    "arraycount_y = 0\n",
    "veghoehenlist = []\n",
    "\n",
    "print(\"VegPunkte zuordnen:\")\n",
    "printProgressBar(0, len(np.arange(ymax,ymax-nrows,-1)), prefix = 'Progress:', suffix = 'Complete', length = 50)\n",
    "j=0\n",
    "for y in np.arange(ymax,ymax-nrows,-1):\n",
    "    printProgressBar(j+1, len(np.arange(ymax,ymax-nrows,-1)), prefix = 'Progress:', suffix = 'Complete', length = 50)\n",
    "    j+=1\n",
    "    # print(\"yRichtung:\",y)\n",
    "    # print(\"ArraypositionY:\",arraycount_y)\n",
    "    for x in np.arange(xmin,xmin+ncols,1):\n",
    "        # print(\"xRichtung:\",x)\n",
    "        # print(\"ArraypositionX:\",arraycount_x)\n",
    "        for i in vegarray:\n",
    "            if x <= i[0] < x+1 and y >= i[1] > y-1: #Hier sind wir in der jeweiligen Zelle\n",
    "                veghoehenlist.append(i[2])\n",
    "                vegcount+=1\n",
    "\n",
    "        veghoeheout_array[arraycount_y][arraycount_x]=np.mean(veghoehenlist) #Mittlere Hoehe der VegPunkte\n",
    "        vegstdout_array[arraycount_y][arraycount_x]=np.std(veghoehenlist) #Standardabweichung der VegPunkte\n",
    "        vegcountout_array[arraycount_y][arraycount_x]=vegcount #Anzahl der Vegetationspunkte in Zelle\n",
    "        arraycount_x+=1     \n",
    "        vegcount=0\n",
    "        veghoehenlist=[]\n",
    "    arraycount_x=0\n",
    "    arraycount_y+=1\n",
    "    # print(\"xRichtungEnde\") \n",
    "    #vegstdout_array[np.isnan(vegstdout_array)] = 0\n",
    "    #veghoeheout_array[np.isnan(veghoeheout_array)] = 0"
   ]
  },
  {
   "cell_type": "code",
   "execution_count": 426,
   "metadata": {},
   "outputs": [],
   "source": [
    "#-------------------------------\n",
    "#Tatsaechliche VegHoehe:\n",
    "#-------------------------------\n",
    "vegtathoehe_array = np.empty((nrows,ncols))\n",
    "vegtathoehe_array = veghoeheout_array - bodenhoehenout_array\n"
   ]
  },
  {
   "cell_type": "code",
   "execution_count": 427,
   "metadata": {},
   "outputs": [],
   "source": [
    "#-------------------------------\n",
    "#OutRaster schreiben:\n",
    "#-------------------------------\n",
    "\n",
    "\n",
    "#Boden Raster\n",
    "driver = gdal.GetDriverByName(\"GTiff\")\n",
    "dataset = driver.Create(\"Export/BodenCount_1000.tif\", ncols, nrows, 1, gdal.GDT_Float32)\n",
    "dataset.SetGeoTransform((xmin,1,0,ymax,0,-1))\n",
    "\n",
    "#Koordinatensystem definieren:\n",
    "dstSRS = osr.SpatialReference()\n",
    "dstSRS.ImportFromEPSG(32632)\n",
    "dest_wkt = dstSRS.ExportToWkt()\n",
    "\n",
    "dataset.SetProjection(dest_wkt)\n",
    "\n",
    "#Raster ausgeben:\n",
    "bandout = dataset.GetRasterBand(1).WriteArray(bodencountout_array)\n",
    "dataset.FlushCache()"
   ]
  },
  {
   "cell_type": "code",
   "execution_count": 428,
   "metadata": {},
   "outputs": [],
   "source": [
    "#Bodenhoehen Raster\n",
    "driver = gdal.GetDriverByName(\"GTiff\")\n",
    "dataset = driver.Create(\"Export/BodenHoehen_1000.tif\", ncols, nrows, 1, gdal.GDT_Float32)\n",
    "dataset.SetGeoTransform((xmin,1,0,ymax,0,-1))\n",
    "\n",
    "#Koordinatensystem definieren:\n",
    "dstSRS = osr.SpatialReference()\n",
    "dstSRS.ImportFromEPSG(32632)\n",
    "dest_wkt = dstSRS.ExportToWkt()\n",
    "\n",
    "dataset.SetProjection(dest_wkt)\n",
    "\n",
    "#Raster ausgeben:\n",
    "bandout = dataset.GetRasterBand(1).WriteArray(bodenhoehenout_array)\n",
    "dataset.FlushCache()"
   ]
  },
  {
   "cell_type": "code",
   "execution_count": 429,
   "metadata": {},
   "outputs": [],
   "source": [
    "\n",
    "#Vegetation Zaehler Raster\n",
    "driver = gdal.GetDriverByName(\"GTiff\")\n",
    "dataset = driver.Create(\"Export/VegCount_1000.tif\", ncols, nrows, 1, gdal.GDT_Float32)\n",
    "dataset.SetGeoTransform((xmin,1,0,ymax,0,-1))\n",
    "\n",
    "#Koordinatensystem definieren:\n",
    "dstSRS = osr.SpatialReference()\n",
    "dstSRS.ImportFromEPSG(32632)\n",
    "dest_wkt = dstSRS.ExportToWkt()\n",
    "\n",
    "dataset.SetProjection(dest_wkt)\n",
    "\n",
    "#Raster ausgeben:\n",
    "bandout = dataset.GetRasterBand(1).WriteArray(vegcountout_array)\n",
    "dataset.FlushCache()"
   ]
  },
  {
   "cell_type": "code",
   "execution_count": 430,
   "metadata": {},
   "outputs": [],
   "source": [
    "\n",
    "#Vegetation Mittlere Hoehe Raster\n",
    "driver = gdal.GetDriverByName(\"GTiff\")\n",
    "dataset = driver.Create(\"Export/VegHoehen_1000.tif\", ncols, nrows, 1, gdal.GDT_Float32)\n",
    "dataset.SetGeoTransform((xmin,1,0,ymax,0,-1))\n",
    "\n",
    "#Koordinatensystem definieren:\n",
    "dstSRS = osr.SpatialReference()\n",
    "dstSRS.ImportFromEPSG(32632)\n",
    "dest_wkt = dstSRS.ExportToWkt()\n",
    "\n",
    "dataset.SetProjection(dest_wkt)\n",
    "\n",
    "#Raster ausgeben:\n",
    "bandout = dataset.GetRasterBand(1).WriteArray(vegtathoehe_array)\n",
    "dataset.FlushCache()"
   ]
  },
  {
   "cell_type": "code",
   "execution_count": 431,
   "metadata": {},
   "outputs": [],
   "source": [
    "\n",
    "#Vegetation Standardabweichung Hoehe Raster\n",
    "driver = gdal.GetDriverByName(\"GTiff\")\n",
    "dataset = driver.Create(\"Export/VegStd_1000.tif\", ncols, nrows, 1, gdal.GDT_Float32)\n",
    "dataset.SetGeoTransform((xmin,1,0,ymax,0,-1))\n",
    "\n",
    "#Koordinatensystem definieren:\n",
    "dstSRS = osr.SpatialReference()\n",
    "dstSRS.ImportFromEPSG(32632)\n",
    "dest_wkt = dstSRS.ExportToWkt()\n",
    "\n",
    "dataset.SetProjection(dest_wkt)\n",
    "\n",
    "#Raster ausgeben:\n",
    "bandout = dataset.GetRasterBand(1).WriteArray(vegstdout_array)\n",
    "dataset.FlushCache()"
   ]
  },
  {
   "cell_type": "code",
   "execution_count": 432,
   "metadata": {},
   "outputs": [
    {
     "ename": "NameError",
     "evalue": "name 'testout' is not defined",
     "output_type": "error",
     "traceback": [
      "\u001b[0;31m---------------------------------------------------------------------------\u001b[0m",
      "\u001b[0;31mNameError\u001b[0m                                 Traceback (most recent call last)",
      "\u001b[0;32m<ipython-input-432-cb7a14e102ac>\u001b[0m in \u001b[0;36m<module>\u001b[0;34m\u001b[0m\n\u001b[0;32m----> 1\u001b[0;31m \u001b[0mnp\u001b[0m\u001b[0;34m.\u001b[0m\u001b[0msavetxt\u001b[0m\u001b[0;34m(\u001b[0m\u001b[0mtestout\u001b[0m\u001b[0;34m.\u001b[0m\u001b[0mtxt\u001b[0m\u001b[0;34m,\u001b[0m\u001b[0mvegstdout_array\u001b[0m\u001b[0;34m,\u001b[0m \u001b[0mdelimiter\u001b[0m\u001b[0;34m=\u001b[0m\u001b[0;34m' '\u001b[0m\u001b[0;34m)\u001b[0m\u001b[0;34m\u001b[0m\u001b[0;34m\u001b[0m\u001b[0m\n\u001b[0m",
      "\u001b[0;31mNameError\u001b[0m: name 'testout' is not defined"
     ]
    }
   ],
   "source": [
    "np.savetxt(testout.txt,vegstdout_array, delimiter=' ')"
   ]
  }
 ]
}