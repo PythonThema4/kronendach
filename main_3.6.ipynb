{
 "nbformat": 4,
 "nbformat_minor": 2,
 "metadata": {
  "language_info": {
   "name": "python",
   "codemirror_mode": {
    "name": "ipython",
    "version": 3
   },
   "version": "3.6.7-final"
  },
  "orig_nbformat": 2,
  "file_extension": ".py",
  "mimetype": "text/x-python",
  "name": "python",
  "npconvert_exporter": "python",
  "pygments_lexer": "ipython3",
  "version": 3,
  "kernelspec": {
   "name": "python36764bit3f6efbcefbfc4cdd87bbf5bfae4c0b9d",
   "display_name": "Python 3.6.7 64-bit"
  }
 },
 "cells": [
  {
   "cell_type": "code",
   "execution_count": 321,
   "metadata": {},
   "outputs": [],
   "source": [
    "#-------------------------------\n",
    "#Funktionen:\n",
    "#-------------------------------\n",
    "\n",
    "# Print iterations progress\n",
    "def printProgressBar (iteration, total, prefix = '', suffix = '', decimals = 1, length = 100, fill = '█', printEnd = \"\\r\"):\n",
    "    \"\"\"\n",
    "    Call in a loop to create terminal progress bar\n",
    "    @params:\n",
    "        iteration   - Required  : current iteration (Int)\n",
    "        total       - Required  : total iterations (Int)\n",
    "        prefix      - Optional  : prefix string (Str)\n",
    "        suffix      - Optional  : suffix string (Str)\n",
    "        decimals    - Optional  : positive number of decimals in percent complete (Int)\n",
    "        length      - Optional  : character length of bar (Int)\n",
    "        fill        - Optional  : bar fill character (Str)\n",
    "        printEnd    - Optional  : end character (e.g. \"\\r\", \"\\r\\n\") (Str)\n",
    "    \"\"\"\n",
    "    percent = (\"{0:.\" + str(decimals) + \"f}\").format(100 * (iteration / float(total)))\n",
    "    filledLength = int(length * iteration // total)\n",
    "    bar = fill * filledLength + '-' * (length - filledLength)\n",
    "    print('\\r%s |%s| %s%% %s' % (prefix, bar, percent, suffix), end = printEnd)\n",
    "    # Print New Line on Complete\n",
    "    if iteration == total: \n",
    "        print()"
   ]
  },
  {
   "cell_type": "code",
   "execution_count": 322,
   "metadata": {},
   "outputs": [
    {
     "data": {
      "text/plain": "<function TextIOWrapper.close()>"
     },
     "execution_count": 322,
     "metadata": {},
     "output_type": "execute_result"
    }
   ],
   "source": [
    "import numpy as np\n",
    "from osgeo import gdal\n",
    "from osgeo import osr\n",
    "import time\n",
    "\n",
    "#-------------------------------\n",
    "#File einlesen:\n",
    "#-------------------------------\n",
    "fobj = open('Daten/Waldpunktwolke_1000.txt', \"r\") #Input File\n",
    "\n",
    "pointlist = []\n",
    "\n",
    "next(fobj)\n",
    "for line in fobj:\n",
    "    line = line.strip()\n",
    "    line= line.split(\"\\t\")   \n",
    "    pointlist.append(line)\n",
    "fobj.close"
   ]
  },
  {
   "cell_type": "code",
   "execution_count": 323,
   "metadata": {},
   "outputs": [
    {
     "name": "stdout",
     "output_type": "stream",
     "text": "1000\nVegetations-und Bodenliste einlesen:\nProgress: |██████████████████████████████████████████████████| 100.0% Complete\n"
    }
   ],
   "source": [
    "#-------------------------------\n",
    "#Daten einlesen und nach Typ Filtern:\n",
    "#-------------------------------\n",
    "\n",
    "pointarray = np.array(pointlist) \n",
    "pointarray = pointarray.astype(float)  \n",
    "print(len(pointarray))\n",
    "\n",
    "#Neuer Array ohne Gebauede und Boden, Klassen 3, 4, 5\n",
    "vegetationslist = []\n",
    "bodenlist=[]\n",
    "\n",
    "print(\"Vegetations-und Bodenliste einlesen:\")\n",
    "printProgressBar(0, len(pointarray), prefix = 'Progress:', suffix = 'Complete', length = 50)\n",
    "j=0\n",
    "for i in pointarray:\n",
    "    printProgressBar(j+1, len(pointarray), prefix = 'Progress:', suffix = 'Complete', length = 50)\n",
    "    j+=1\n",
    "    if i[6] == 3 or i[6] ==4 or i[6] ==5:\n",
    "        vegetationslist.append(i)\n",
    "    if i[6] == 2:\n",
    "        bodenlist.append(i)\n",
    "\n",
    "vegetationsarray = np.array(vegetationslist)        \n",
    "bodenarray = np.array(bodenlist)\n",
    "\n",
    "\n",
    "#----------------------------------\n",
    "#Extend Array with random numbers:\n",
    "#----------------------------------\n",
    "#max values\n",
    "maxvals = np.amax(pointarray,axis=0) \n",
    "xmax=maxvals[0]\n",
    "ymax=maxvals[1]\n",
    "# print (\"xmax:\",xmax)\n",
    "# print (\"ymax:\",ymax)\n",
    "\n",
    "#min values\n",
    "minvals = np.amin(pointarray,axis=0) \n",
    "xmin=minvals[0]\n",
    "ymin=minvals[1]\n",
    "# print (\"xmin:\",xmin)\n",
    "# print (\"ymin:\",ymin)\n",
    "\n",
    "#empty array with extent dimensions\n",
    "nrows= int(np.ceil(ymax-ymin))\n",
    "ncols= int(np.ceil(xmax-xmin))\n",
    "\n",
    "bodenout_array = np.empty((nrows,ncols))\n",
    "bodenout_array.fill(0)"
   ]
  },
  {
   "cell_type": "code",
   "execution_count": 324,
   "metadata": {},
   "outputs": [
    {
     "name": "stdout",
     "output_type": "stream",
     "text": "Bodenpunkte zuordnen:\nProgress: |██████████████████████████████████████████████████| 100.0% Complete\n"
    }
   ],
   "source": [
    "#----------------------------------\n",
    "#Bodenpunkte zaehlen:\n",
    "#----------------------------------\n",
    "bodencount = 0\n",
    "countlist =[]\n",
    "arraycount_x = 0\n",
    "arraycount_y = 0\n",
    "\n",
    "print(\"Bodenpunkte zuordnen:\")\n",
    "printProgressBar(0, len(np.arange(ymax,ymax-nrows,-1)), prefix = 'Progress:', suffix = 'Complete', length = 50)\n",
    "j=0\n",
    "for y in np.arange(ymax,ymax-nrows,-1):\n",
    "    printProgressBar(j+1, len(np.arange(ymax,ymax-nrows,-1)), prefix = 'Progress:', suffix = 'Complete', length = 50)\n",
    "    j+=1\n",
    "    # print(\"yRichtung:\",y)\n",
    "    # print(\"ArraypositionY:\",arraycount_y)\n",
    "    for x in np.arange(xmin,xmin+ncols,1):\n",
    "        # print(\"xRichtung:\",x)\n",
    "        # print(\"ArraypositionX:\",arraycount_x)\n",
    "        for i in bodenarray:\n",
    "            if x <= i[0] < x+1 and y >= i[1] > y-1:\n",
    "                bodencount+=1\n",
    "        bodenout_array[arraycount_y][arraycount_x]=bodencount\n",
    "        arraycount_x+=1     \n",
    "        bodencount=0\n",
    "    arraycount_x=0\n",
    "    arraycount_y+=1\n",
    "    # print(\"xRichtungEnde\")    \n",
    "\n",
    "\n"
   ]
  },
  {
   "cell_type": "code",
   "execution_count": 325,
   "metadata": {},
   "outputs": [],
   "source": [
    "#-------------------------------\n",
    "#OutRaster schreiben:\n",
    "#-------------------------------\n",
    "\n",
    "driver = gdal.GetDriverByName(\"GTiff\")\n",
    "dataset = driver.Create(\"Bodenpunkte_1000.tif\", ncols, nrows, 1, gdal.GDT_Float32)\n",
    "dataset.SetGeoTransform((xmin,1,0,ymax,0,-1))\n",
    "\n",
    "#Koordinatensystem definieren:\n",
    "dstSRS = osr.SpatialReference()\n",
    "dstSRS.ImportFromEPSG(32632)\n",
    "dest_wkt = dstSRS.ExportToWkt()\n",
    "\n",
    "dataset.SetProjection(dest_wkt)\n",
    "\n",
    "#Raster ausgeben:\n",
    "bandout = dataset.GetRasterBand(1).WriteArray(bodenout_array)\n",
    "dataset.FlushCache()"
   ]
  },
  {
   "cell_type": "code",
   "execution_count": 326,
   "metadata": {},
   "outputs": [
    {
     "name": "stdout",
     "output_type": "stream",
     "text": "2\n"
    }
   ],
   "source": [
    "testarray=np.array([[1,2,6],[4,6,2]])\n",
    "print(testarray[1][2])"
   ]
  },
  {
   "cell_type": "code",
   "execution_count": null,
   "metadata": {},
   "outputs": [],
   "source": []
  }
 ]
}