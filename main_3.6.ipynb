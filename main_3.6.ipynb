{
 "nbformat": 4,
 "nbformat_minor": 2,
 "metadata": {
  "language_info": {
   "name": "python",
   "codemirror_mode": {
    "name": "ipython",
    "version": 3
   }
  },
  "orig_nbformat": 2,
  "file_extension": ".py",
  "mimetype": "text/x-python",
  "name": "python",
  "npconvert_exporter": "python",
  "pygments_lexer": "ipython3",
  "version": 3
 },
 "cells": [
  {
   "cell_type": "code",
   "execution_count": 8,
   "metadata": {},
   "outputs": [
    {
     "ename": "ValueError",
     "evalue": "could not convert string to float: ",
     "output_type": "error",
     "traceback": [
      "\u001b[0;31m---------------------------------------------------------------------------\u001b[0m",
      "\u001b[0;31mValueError\u001b[0m                                Traceback (most recent call last)",
      "\u001b[0;32m<ipython-input-8-5f2afbec5d71>\u001b[0m in \u001b[0;36m<module>\u001b[0;34m\u001b[0m\n\u001b[1;32m     18\u001b[0m \u001b[0;34m\u001b[0m\u001b[0m\n\u001b[1;32m     19\u001b[0m \u001b[0mpointarray\u001b[0m \u001b[0;34m=\u001b[0m \u001b[0mnp\u001b[0m\u001b[0;34m.\u001b[0m\u001b[0marray\u001b[0m\u001b[0;34m(\u001b[0m\u001b[0mpointlist\u001b[0m\u001b[0;34m)\u001b[0m\u001b[0;34m\u001b[0m\u001b[0;34m\u001b[0m\u001b[0m\n\u001b[0;32m---> 20\u001b[0;31m \u001b[0mpointarray\u001b[0m \u001b[0;34m=\u001b[0m \u001b[0mpointarray\u001b[0m\u001b[0;34m.\u001b[0m\u001b[0mastype\u001b[0m\u001b[0;34m(\u001b[0m\u001b[0mfloat\u001b[0m\u001b[0;34m)\u001b[0m\u001b[0;34m\u001b[0m\u001b[0;34m\u001b[0m\u001b[0m\n\u001b[0m\u001b[1;32m     21\u001b[0m \u001b[0;34m\u001b[0m\u001b[0m\n\u001b[1;32m     22\u001b[0m \u001b[0;34m\u001b[0m\u001b[0m\n",
      "\u001b[0;31mValueError\u001b[0m: could not convert string to float: "
     ]
    }
   ],
   "source": [
    "import numpy as np\n",
    "\n",
    "\n",
    "\n",
    "fobj = open('/Users/ludwighagelstein/kronendach/main_copy.py', \"r\")\n",
    "#print fobj\n",
    "\n",
    "pointlist = []\n",
    "\n",
    "\n",
    "#read in\n",
    "next(fobj)\n",
    "for line in fobj:\n",
    "    line = line.strip()\n",
    "    line= line.split(\"\\t\")   \n",
    "    pointlist.append(line)\n",
    "fobj.close\n",
    "\n",
    "pointarray = np.array(pointlist) \n",
    "pointarray = pointarray.astype(float)  \n",
    "\n",
    "\n",
    "#Neuer Array ohne Gebauede und Boden\n",
    "\n",
    "\n",
    "vegetationslist = []\n",
    "\n",
    "for i in pointarray:\n",
    "        \n",
    "        if i[6] == 3 or i[6] ==4 or i[6] ==5:\n",
    "                vegetationslist.append(i)\n",
    "                \n",
    "\n",
    "#print vegetationslist\n",
    "vegetationsarray = np.array(vegetationslist)\n",
    "print(vegetationsarray)\n",
    "        \n",
    "\n",
    "\n",
    "\n",
    "#print pointlist\n",
    "print (\"--------\")\n",
    "\n",
    "#max values\n",
    "maxvals = np.amax(pointarray,axis=0) \n",
    "xmax=maxvals[0]\n",
    "ymax=maxvals[1]\n",
    "print (\"xmax:\",xmax)\n",
    "print (\"ymax:\",ymax)\n",
    "#min values\n",
    "minvals = np.amin(pointarray,axis=0) \n",
    "xmin=minvals[0]\n",
    "ymin=minvals[1]\n",
    "print (\"xmin:\",xmin)\n",
    "print (\"ymin:\",ymin)\n",
    "#ratio\n",
    "nrows= np.ceil(ymax-ymin)\n",
    "ncols= np.ceil(xmax-xmin)\n",
    "\n",
    "print (nrows)\n",
    "print (ncols)\n",
    "#create Extent Raster\n",
    "array = np.empty(nrows,ncols)\n",
    "\n",
    "# for x in np.arange(xmin,xmin+ncols):\n",
    "#     print x\n",
    "#     for y in np.arange(ymin,ymin+nrows):\n",
    "#         print y\n",
    "        \n",
    "\n"
   ]
  },
  {
   "cell_type": "code",
   "execution_count": null,
   "metadata": {},
   "outputs": [],
   "source": []
  }
 ]
}